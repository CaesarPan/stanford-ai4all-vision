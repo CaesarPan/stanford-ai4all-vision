{
 "cells": [
  {
   "cell_type": "markdown",
   "metadata": {},
   "source": [
    "# Keras Tutorial"
   ]
  },
  {
   "cell_type": "markdown",
   "metadata": {},
   "source": [
    "Remember in the class we talked about the pipeline of a real computer vision system, in which we:\n",
    "\n",
    "1. First clean the data to the format to be used for later steps (which includes data loading, data pre-processing, dataset splitting (we'll talk about this on Friday), data augmentation (which we're not gonna cover), etc);\n",
    "\n",
    "2. Then we build the model for feature extraction as well as for final regression / classification. Remember we have many choices like linear model, fully connected neural nets, convolutional neural nets, etc. And we can implement these models very easily in Keras with just one line of code;\n",
    "\n",
    "3. After we get the data and the model, we need to code up the optimization part (for which we'll use gradient descent). \n",
    "\n",
    "In this tutorial, we'll go over these parts sequentially."
   ]
  },
  {
   "cell_type": "markdown",
   "metadata": {},
   "source": [
    "## Data Loading and Pre-processing\n",
    "\n",
    "So in Keras we don't need anything specific for data, we just use NumPy and represent our data in Numpy arrays. Now we're gonna create some fake data to be used later."
   ]
  },
  {
   "cell_type": "code",
   "execution_count": 2,
   "metadata": {},
   "outputs": [],
   "source": [
    "# Import necessary packages\n",
    "import numpy as np"
   ]
  },
  {
   "cell_type": "code",
   "execution_count": 3,
   "metadata": {},
   "outputs": [
    {
     "name": "stdout",
     "output_type": "stream",
     "text": [
      "(1000, 32, 32, 3)\n"
     ]
    }
   ],
   "source": [
    "# Create random numpy arrays (ldata loading)\n",
    "rand_data = np.random.random((1000, 32, 32, 3)) # We have 1000 fake images with spatial size 32 * 32\n",
    "rand_label = np.array([0]*500 + [1]*500)        # Create fake binary labels for these images  \n",
    "\n",
    "print(rand_data.shape)"
   ]
  },
  {
   "cell_type": "code",
   "execution_count": 5,
   "metadata": {},
   "outputs": [
    {
     "name": "stdout",
     "output_type": "stream",
     "text": [
      "(900, 32, 32, 3)\n",
      "(50, 32, 32, 3)\n",
      "(50, 32, 32, 3)\n"
     ]
    }
   ],
   "source": [
    "# Split data into train, validation and test sets (we'll talk more about this on Friday)\n",
    "train_ratio, val_ratio = 0.9, 0.05\n",
    "\n",
    "X_train = rand_data[:int(rand_data.shape[0]*train_ratio), ...] # ... means all the other axes\n",
    "y_train = rand_label[:int(rand_data.shape[0]*train_ratio), ...]\n",
    "\n",
    "X_val = rand_data[int(rand_data.shape[0]*train_ratio):int(rand_data.shape[0]*(train_ratio+val_ratio)), ...]\n",
    "y_val = rand_label[int(rand_data.shape[0]*train_ratio):int(rand_data.shape[0]*(train_ratio+val_ratio)), ...]\n",
    "\n",
    "X_test = rand_data[int(rand_data.shape[0]*(train_ratio+val_ratio)):, ...]\n",
    "y_test = rand_label[int(rand_data.shape[0]*(train_ratio+val_ratio)):, ...]\n",
    "\n",
    "print(X_train.shape)\n",
    "print(X_val.shape)\n",
    "print(X_test.shape)"
   ]
  },
  {
   "cell_type": "markdown",
   "metadata": {},
   "source": [
    "## Model construction\n",
    "\n",
    "Now we have all the data, next we're gonna build our model for feature extraction as well as classification. In Keras, you can easily build many models, as shown below."
   ]
  },
  {
   "cell_type": "code",
   "execution_count": 6,
   "metadata": {},
   "outputs": [
    {
     "name": "stderr",
     "output_type": "stream",
     "text": [
      "Using TensorFlow backend.\n",
      "WARNING: Logging before flag parsing goes to stderr.\n",
      "W0705 09:26:18.411666 4627547584 deprecation_wrapper.py:119] From /Users/Caesar/miniconda2/envs/py37/lib/python3.7/site-packages/keras/backend/tensorflow_backend.py:74: The name tf.get_default_graph is deprecated. Please use tf.compat.v1.get_default_graph instead.\n",
      "\n"
     ]
    }
   ],
   "source": [
    "import keras\n",
    "from keras.models import Sequential # Sequential is one of the main models in Keras, which is basically a sequentially stacked series of layers\n",
    "\n",
    "model = Sequential() # Initialize a Sequential model instance"
   ]
  },
  {
   "cell_type": "code",
   "execution_count": 7,
   "metadata": {},
   "outputs": [
    {
     "name": "stderr",
     "output_type": "stream",
     "text": [
      "W0705 09:27:02.475337 4627547584 deprecation_wrapper.py:119] From /Users/Caesar/miniconda2/envs/py37/lib/python3.7/site-packages/keras/backend/tensorflow_backend.py:517: The name tf.placeholder is deprecated. Please use tf.compat.v1.placeholder instead.\n",
      "\n",
      "W0705 09:27:02.496649 4627547584 deprecation_wrapper.py:119] From /Users/Caesar/miniconda2/envs/py37/lib/python3.7/site-packages/keras/backend/tensorflow_backend.py:4138: The name tf.random_uniform is deprecated. Please use tf.random.uniform instead.\n",
      "\n"
     ]
    }
   ],
   "source": [
    "# First we'll use fully-connected neural nets\n",
    "from keras.layers import Dense # Dense is Keras's name for fully connected layers\n",
    "\n",
    "# We can stack layers like lego blocks by simplying using `add()`\n",
    "# `units` is the number of neurons\n",
    "# `activation` is the nonlinear function we add for each layer\n",
    "# We only need to specify `input_dim` which is the input dimension for the layer for the input layer, because for later layers the input is just the output from last layer\n",
    "# Once again, the number of neurons in hidden layers (e.g., 64 and 16 here) are design choices\n",
    "\n",
    "model.add(Dense(units=64, activation='sigmoid', input_dim=32*32*3)) \n",
    "model.add(Dense(units=16, activation='sigmoid'))\n",
    "model.add(Dense(units=1, activation='sigmoid'))"
   ]
  },
  {
   "cell_type": "code",
   "execution_count": 8,
   "metadata": {},
   "outputs": [
    {
     "name": "stderr",
     "output_type": "stream",
     "text": [
      "W0705 09:28:09.018414 4627547584 deprecation_wrapper.py:119] From /Users/Caesar/miniconda2/envs/py37/lib/python3.7/site-packages/keras/optimizers.py:790: The name tf.train.Optimizer is deprecated. Please use tf.compat.v1.train.Optimizer instead.\n",
      "\n",
      "W0705 09:28:09.054360 4627547584 deprecation_wrapper.py:119] From /Users/Caesar/miniconda2/envs/py37/lib/python3.7/site-packages/keras/backend/tensorflow_backend.py:3376: The name tf.log is deprecated. Please use tf.math.log instead.\n",
      "\n",
      "W0705 09:28:09.068955 4627547584 deprecation.py:323] From /Users/Caesar/miniconda2/envs/py37/lib/python3.7/site-packages/tensorflow/python/ops/nn_impl.py:180: add_dispatch_support.<locals>.wrapper (from tensorflow.python.ops.array_ops) is deprecated and will be removed in a future version.\n",
      "Instructions for updating:\n",
      "Use tf.where in 2.0, which has the same broadcast rule as np.where\n"
     ]
    }
   ],
   "source": [
    "# Once the model is build, we then configure the learning process with `compile()`\n",
    "# We need to specify the loss function, the optimizer and the metric we use to evaluate our model\n",
    "# For loss here we're using a function called binary cross-entropy loss, which is specifically for binary classification\n",
    "# For optimizer we're using gradient descent, which is written as 'sgd' in Keras\n",
    "# Since we're doing classification, normally the classification accuracy is how we evaluate the model\n",
    "\n",
    "model.compile(loss='binary_crossentropy', optimizer='sgd', metrics=['accuracy'])"
   ]
  },
  {
   "cell_type": "code",
   "execution_count": 9,
   "metadata": {},
   "outputs": [],
   "source": [
    "# The above is actually a convenient way that Keras provides for easy implementation. If you want to have more control over the learning process (e.g., the learning rate), you can use the following:\n",
    "\n",
    "model.compile(loss=keras.losses.binary_crossentropy, optimizer=keras.optimizers.SGD(lr=0.001))"
   ]
  },
  {
   "cell_type": "code",
   "execution_count": 10,
   "metadata": {},
   "outputs": [
    {
     "name": "stderr",
     "output_type": "stream",
     "text": [
      "W0705 09:30:39.864305 4627547584 deprecation_wrapper.py:119] From /Users/Caesar/miniconda2/envs/py37/lib/python3.7/site-packages/keras/backend/tensorflow_backend.py:986: The name tf.assign_add is deprecated. Please use tf.compat.v1.assign_add instead.\n",
      "\n"
     ]
    },
    {
     "name": "stdout",
     "output_type": "stream",
     "text": [
      "(900, 3072)\n",
      "(50, 3072)\n",
      "(50, 3072)\n",
      "Train on 900 samples, validate on 50 samples\n",
      "Epoch 1/5\n",
      "900/900 [==============================] - 0s 510us/step - loss: 0.6911 - val_loss: 0.7156\n",
      "Epoch 2/5\n",
      "900/900 [==============================] - 0s 111us/step - loss: 0.6904 - val_loss: 0.7223\n",
      "Epoch 3/5\n",
      "900/900 [==============================] - 0s 101us/step - loss: 0.6898 - val_loss: 0.7314\n",
      "Epoch 4/5\n",
      "900/900 [==============================] - 0s 109us/step - loss: 0.6892 - val_loss: 0.7381\n",
      "Epoch 5/5\n",
      "900/900 [==============================] - 0s 142us/step - loss: 0.6887 - val_loss: 0.7444\n"
     ]
    },
    {
     "data": {
      "text/plain": [
       "<keras.callbacks.History at 0xb30045860>"
      ]
     },
     "execution_count": 10,
     "metadata": {},
     "output_type": "execute_result"
    }
   ],
   "source": [
    "# Up to this point we're all doing configurations. Now everything is set up so we're letting the model do real things!\n",
    "\n",
    "# Since now we're using a fully-connected nets, remember we need to flatten the image to a single long vector first\n",
    "X_train_flat = X_train.reshape((-1, 32*32*3)) # -1 means letting NumPy to figure this axis out automatically\n",
    "X_val_flat = X_val.reshape((-1, 32*32*3))\n",
    "X_test_flat = X_test.reshape((-1, 32*32*3))\n",
    "\n",
    "print(X_train_flat.shape)\n",
    "print(X_val_flat.shape)\n",
    "print(X_test_flat.shape)\n",
    "\n",
    "# Then use fit() to actually train our model\n",
    "# epochs is basically how many iterations we want for the update process. The model needs some time to reach the optimal state!\n",
    "# batch_size is how many images we use each time to estimate the gradient. Remember that the more we use the more accurate each update will be, but it will also be slower\n",
    "\n",
    "model.fit(X_train_flat, y_train, epochs=5, batch_size=32, validation_data=(X_val_flat, y_val))"
   ]
  },
  {
   "cell_type": "code",
   "execution_count": 11,
   "metadata": {},
   "outputs": [
    {
     "name": "stdout",
     "output_type": "stream",
     "text": [
      "50/50 [==============================] - 0s 162us/step\n",
      "The test accuracy is: 0.7417427635192871\n",
      "The predicted probabilities are: [[0.48281336]\n",
      " [0.47698927]\n",
      " [0.46662387]\n",
      " [0.48477855]\n",
      " [0.4843165 ]\n",
      " [0.47765195]\n",
      " [0.48685473]\n",
      " [0.47723022]\n",
      " [0.47426078]\n",
      " [0.49188405]\n",
      " [0.48913604]\n",
      " [0.4736628 ]\n",
      " [0.48325825]\n",
      " [0.48183548]\n",
      " [0.48358443]\n",
      " [0.46566638]\n",
      " [0.46648058]\n",
      " [0.48024574]\n",
      " [0.47309178]\n",
      " [0.47772107]\n",
      " [0.46777815]\n",
      " [0.48181674]\n",
      " [0.4698373 ]\n",
      " [0.47837853]\n",
      " [0.46743447]\n",
      " [0.48243085]\n",
      " [0.48156023]\n",
      " [0.47030056]\n",
      " [0.47579846]\n",
      " [0.46148956]\n",
      " [0.4782727 ]\n",
      " [0.47594103]\n",
      " [0.47401866]\n",
      " [0.4757933 ]\n",
      " [0.4740392 ]\n",
      " [0.46542567]\n",
      " [0.46474433]\n",
      " [0.48144367]\n",
      " [0.48078394]\n",
      " [0.48594508]\n",
      " [0.48337954]\n",
      " [0.4829551 ]\n",
      " [0.47512576]\n",
      " [0.45782456]\n",
      " [0.47999835]\n",
      " [0.4797726 ]\n",
      " [0.46572384]\n",
      " [0.47631648]\n",
      " [0.48253968]\n",
      " [0.4623026 ]]\n",
      "The predicted class labels are: [[0]\n",
      " [0]\n",
      " [0]\n",
      " [0]\n",
      " [0]\n",
      " [0]\n",
      " [0]\n",
      " [0]\n",
      " [0]\n",
      " [0]\n",
      " [0]\n",
      " [0]\n",
      " [0]\n",
      " [0]\n",
      " [0]\n",
      " [0]\n",
      " [0]\n",
      " [0]\n",
      " [0]\n",
      " [0]\n",
      " [0]\n",
      " [0]\n",
      " [0]\n",
      " [0]\n",
      " [0]\n",
      " [0]\n",
      " [0]\n",
      " [0]\n",
      " [0]\n",
      " [0]\n",
      " [0]\n",
      " [0]\n",
      " [0]\n",
      " [0]\n",
      " [0]\n",
      " [0]\n",
      " [0]\n",
      " [0]\n",
      " [0]\n",
      " [0]\n",
      " [0]\n",
      " [0]\n",
      " [0]\n",
      " [0]\n",
      " [0]\n",
      " [0]\n",
      " [0]\n",
      " [0]\n",
      " [0]\n",
      " [0]]\n"
     ]
    }
   ],
   "source": [
    "# Now let's see how our model does\n",
    "acc = model.evaluate(X_test_flat, y_test)\n",
    "print('The test accuracy is: {}'.format(acc))\n",
    "\n",
    "# And make predictions\n",
    "prob = model.predict(X_test_flat) # These are probabilities, and we want to convert them to class labels\n",
    "label = np.array(prob > 0.5, dtype=int)\n",
    "\n",
    "print('The predicted probabilities are: {}'.format(prob))\n",
    "print('The predicted class labels are: {}'.format(label))\n"
   ]
  },
  {
   "cell_type": "code",
   "execution_count": 13,
   "metadata": {},
   "outputs": [
    {
     "name": "stdout",
     "output_type": "stream",
     "text": [
      "Train on 900 samples, validate on 50 samples\n",
      "Epoch 1/20\n",
      "900/900 [==============================] - 1s 626us/step - loss: 0.7051 - val_loss: 0.9374\n",
      "Epoch 2/20\n",
      "900/900 [==============================] - 0s 236us/step - loss: 0.6907 - val_loss: 0.8756\n",
      "Epoch 3/20\n",
      "900/900 [==============================] - 0s 240us/step - loss: 0.6887 - val_loss: 0.8288\n",
      "Epoch 4/20\n",
      "900/900 [==============================] - 0s 460us/step - loss: 0.6878 - val_loss: 0.8245\n",
      "Epoch 5/20\n",
      "900/900 [==============================] - 0s 453us/step - loss: 0.6877 - val_loss: 0.7967\n",
      "Epoch 6/20\n",
      "900/900 [==============================] - 0s 222us/step - loss: 0.6878 - val_loss: 0.8304\n",
      "Epoch 7/20\n",
      "900/900 [==============================] - 0s 385us/step - loss: 0.6876 - val_loss: 0.8310\n",
      "Epoch 8/20\n",
      "900/900 [==============================] - 0s 220us/step - loss: 0.6879 - val_loss: 0.8343\n",
      "Epoch 9/20\n",
      "900/900 [==============================] - 0s 218us/step - loss: 0.6875 - val_loss: 0.8087\n",
      "Epoch 10/20\n",
      "900/900 [==============================] - 0s 241us/step - loss: 0.6877 - val_loss: 0.8257\n",
      "Epoch 11/20\n",
      "900/900 [==============================] - 0s 238us/step - loss: 0.6876 - val_loss: 0.7873\n",
      "Epoch 12/20\n",
      "900/900 [==============================] - 0s 361us/step - loss: 0.6879 - val_loss: 0.7796\n",
      "Epoch 13/20\n",
      "900/900 [==============================] - 0s 219us/step - loss: 0.6882 - val_loss: 0.7804\n",
      "Epoch 14/20\n",
      "900/900 [==============================] - 0s 232us/step - loss: 0.6879 - val_loss: 0.7776\n",
      "Epoch 15/20\n",
      "900/900 [==============================] - 0s 362us/step - loss: 0.6879 - val_loss: 0.7889\n",
      "Epoch 16/20\n",
      "900/900 [==============================] - 0s 382us/step - loss: 0.6878 - val_loss: 0.8098\n",
      "Epoch 17/20\n",
      "900/900 [==============================] - 0s 299us/step - loss: 0.6875 - val_loss: 0.7928\n",
      "Epoch 18/20\n",
      "900/900 [==============================] - 0s 289us/step - loss: 0.6876 - val_loss: 0.8291\n",
      "Epoch 19/20\n",
      "900/900 [==============================] - 0s 216us/step - loss: 0.6877 - val_loss: 0.8257\n",
      "Epoch 20/20\n",
      "900/900 [==============================] - 0s 335us/step - loss: 0.6877 - val_loss: 0.8116\n",
      "50/50 [==============================] - 0s 166us/step\n",
      "The test accuracy is: 0.80976820230484\n",
      "The predicted probabilities are: [[0.4396488 ]\n",
      " [0.44756165]\n",
      " [0.4440366 ]\n",
      " [0.4522219 ]\n",
      " [0.44278717]\n",
      " [0.44286335]\n",
      " [0.44352692]\n",
      " [0.4399996 ]\n",
      " [0.44521046]\n",
      " [0.43936926]\n",
      " [0.44289467]\n",
      " [0.4485495 ]\n",
      " [0.4394881 ]\n",
      " [0.43881896]\n",
      " [0.44759494]\n",
      " [0.44729146]\n",
      " [0.4495825 ]\n",
      " [0.44763592]\n",
      " [0.43686706]\n",
      " [0.44305956]\n",
      " [0.456174  ]\n",
      " [0.44370866]\n",
      " [0.45216244]\n",
      " [0.44362456]\n",
      " [0.44955513]\n",
      " [0.44751912]\n",
      " [0.4509665 ]\n",
      " [0.44346094]\n",
      " [0.4443113 ]\n",
      " [0.43750563]\n",
      " [0.44471875]\n",
      " [0.43879446]\n",
      " [0.45072603]\n",
      " [0.4459998 ]\n",
      " [0.45328486]\n",
      " [0.44212952]\n",
      " [0.44063485]\n",
      " [0.44992277]\n",
      " [0.44392672]\n",
      " [0.4435485 ]\n",
      " [0.4452948 ]\n",
      " [0.44324708]\n",
      " [0.43839777]\n",
      " [0.44514406]\n",
      " [0.45280415]\n",
      " [0.45127022]\n",
      " [0.45131367]\n",
      " [0.4421419 ]\n",
      " [0.43708488]\n",
      " [0.44093776]]\n",
      "The predicted class labels are: [[0]\n",
      " [0]\n",
      " [0]\n",
      " [0]\n",
      " [0]\n",
      " [0]\n",
      " [0]\n",
      " [0]\n",
      " [0]\n",
      " [0]\n",
      " [0]\n",
      " [0]\n",
      " [0]\n",
      " [0]\n",
      " [0]\n",
      " [0]\n",
      " [0]\n",
      " [0]\n",
      " [0]\n",
      " [0]\n",
      " [0]\n",
      " [0]\n",
      " [0]\n",
      " [0]\n",
      " [0]\n",
      " [0]\n",
      " [0]\n",
      " [0]\n",
      " [0]\n",
      " [0]\n",
      " [0]\n",
      " [0]\n",
      " [0]\n",
      " [0]\n",
      " [0]\n",
      " [0]\n",
      " [0]\n",
      " [0]\n",
      " [0]\n",
      " [0]\n",
      " [0]\n",
      " [0]\n",
      " [0]\n",
      " [0]\n",
      " [0]\n",
      " [0]\n",
      " [0]\n",
      " [0]\n",
      " [0]\n",
      " [0]]\n"
     ]
    }
   ],
   "source": [
    "# As we can expect, the results are totally random\n",
    "# You can also play with other models, e.g., convnets\n",
    "# So we do the same procedure once more\n",
    "\n",
    "model = Sequential() # Re-initialize the model\n",
    "\n",
    "# Feature extractor\n",
    "# We're using such an architecture: conv -> maxpool -> conv -> maxpool\n",
    "# 'same' padding means we zero-pad the images so that the output will be of the same size as the input\n",
    "model.add(keras.layers.Conv2D(filters=16, kernel_size=3, strides=(2, 2), padding='same'))\n",
    "model.add(keras.layers.Activation('sigmoid'))\n",
    "model.add(keras.layers.MaxPooling2D(pool_size=(2, 2))) # By default the stride is the same as the pooling size\n",
    "\n",
    "model.add(keras.layers.Conv2D(filters=32, kernel_size=2, strides=(1, 1), padding='same'))\n",
    "model.add(keras.layers.Activation('relu')) # ReLU is another kind of non-linear function\n",
    "model.add(keras.layers.MaxPooling2D(pool_size=(2, 2)))\n",
    "\n",
    "# Classifier\n",
    "# We're using a 2-layer FC net for classification \n",
    "model.add(keras.layers.Flatten())\n",
    "\n",
    "model.add(keras.layers.Dense(32))\n",
    "model.add(keras.layers.Activation('relu'))\n",
    "\n",
    "model.add(keras.layers.Dense(1))\n",
    "model.add(keras.layers.Activation('sigmoid'))\n",
    "\n",
    "# Compilation\n",
    "model.compile(loss=keras.losses.binary_crossentropy, optimizer=keras.optimizers.SGD(lr=0.001))\n",
    "\n",
    "# Training\n",
    "model.fit(X_train, y_train, epochs=20, batch_size=32, validation_data=(X_val, y_val))\n",
    "\n",
    "# Evaluation\n",
    "acc = model.evaluate(X_test, y_test)\n",
    "print('The test accuracy is: {}'.format(acc))\n",
    "\n",
    "# And make predictions\n",
    "prob = model.predict(X_test) # These are probabilities, and we want to convert them to class labels\n",
    "label = np.array(prob > 0.5, dtype=int)\n",
    "\n",
    "print('The predicted probabilities are: {}'.format(prob))\n",
    "print('The predicted class labels are: {}'.format(label))"
   ]
  },
  {
   "cell_type": "code",
   "execution_count": null,
   "metadata": {},
   "outputs": [],
   "source": []
  }
 ],
 "metadata": {
  "kernelspec": {
   "display_name": "Python 3",
   "language": "python",
   "name": "python3"
  },
  "language_info": {
   "codemirror_mode": {
    "name": "ipython",
    "version": 3
   },
   "file_extension": ".py",
   "mimetype": "text/x-python",
   "name": "python",
   "nbconvert_exporter": "python",
   "pygments_lexer": "ipython3",
   "version": "3.7.2"
  }
 },
 "nbformat": 4,
 "nbformat_minor": 2
}
